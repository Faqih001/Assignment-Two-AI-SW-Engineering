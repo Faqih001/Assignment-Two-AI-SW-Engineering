{
 "cells": [
  {
   "cell_type": "markdown",
   "id": "b070de0c",
   "metadata": {},
   "source": [
    "# AI Tools Assignment: Mastering the AI Toolkit 🛠️🧠\n",
    "\n",
    "This notebook contains the implementation of various AI tasks using different frameworks and tools. The assignment is divided into three main parts:\n",
    "1. Theoretical Understanding\n",
    "2. Practical Implementation\n",
    "3. Ethics & Optimization\n",
    "\n",
    "## Setup\n",
    "First, let's install and import all the required libraries."
   ]
  },
  {
   "cell_type": "code",
   "execution_count": null,
   "id": "225cc037",
   "metadata": {},
   "outputs": [
    {
     "ename": "",
     "evalue": "",
     "output_type": "error",
     "traceback": [
      "\u001b[1;31mRunning cells with 'Python 3.10.18' requires the ipykernel package.\n",
      "\u001b[1;31m<a href='command:jupyter.createPythonEnvAndSelectController'>Create a Python Environment</a> with the required packages.\n",
      "\u001b[1;31mOr install 'ipykernel' using the command: '/usr/bin/python3.10 -m pip install ipykernel -U --user --force-reinstall'"
     ]
    }
   ],
   "source": [
    "# Install required packages\n",
    "!pip install tensorflow torch scikit-learn spacy pandas numpy matplotlib seaborn streamlit flask tensorflow-model-analysis"
   ]
  },
  {
   "cell_type": "code",
   "execution_count": null,
   "id": "c9a474e2",
   "metadata": {},
   "outputs": [],
   "source": [
    "# Import required libraries\n",
    "import numpy as np\n",
    "import pandas as pd\n",
    "import tensorflow as tf\n",
    "import torch\n",
    "import torch.nn as nn\n",
    "import torch.optim as optim\n",
    "from sklearn.datasets import load_iris\n",
    "from sklearn.tree import DecisionTreeClassifier\n",
    "from sklearn.model_selection import train_test_split\n",
    "from sklearn.metrics import accuracy_score, precision_score, recall_score\n",
    "from sklearn.preprocessing import LabelEncoder\n",
    "import spacy\n",
    "import matplotlib.pyplot as plt\n",
    "import seaborn as sns\n",
    "\n",
    "# Set random seeds for reproducibility\n",
    "np.random.seed(42)\n",
    "tf.random.set_seed(42)\n",
    "torch.manual_seed(42)"
   ]
  },
  {
   "cell_type": "markdown",
   "id": "829d5f29",
   "metadata": {},
   "source": [
    "# Part 1: Theoretical Understanding\n",
    "\n",
    "## Short Answer Questions\n",
    "\n",
    "### Q1: TensorFlow vs PyTorch\n",
    "Explain the primary differences between TensorFlow and PyTorch, and when you would choose one over the other.\n",
    "\n",
    "[Your answer here]\n",
    "\n",
    "### Q2: Jupyter Notebooks Use Cases\n",
    "Describe two use cases for Jupyter Notebooks in AI development.\n",
    "\n",
    "[Your answer here]\n",
    "\n",
    "### Q3: spaCy's NLP Capabilities\n",
    "How does spaCy enhance NLP tasks compared to basic Python string operations?\n",
    "\n",
    "[Your answer here]\n",
    "\n",
    "## Comparative Analysis\n",
    "\n",
    "Compare Scikit-learn and TensorFlow in terms of:\n",
    "\n",
    "| Feature | Scikit-learn | TensorFlow |\n",
    "|---------|--------------|------------|\n",
    "| Target applications | | |\n",
    "| Ease of use for beginners | | |\n",
    "| Community support | | |\n",
    "\n",
    "[Fill in the comparison table above with your analysis]"
   ]
  },
  {
   "cell_type": "markdown",
   "id": "0bfe838b",
   "metadata": {},
   "source": [
    "# Part 2: Practical Implementation\n",
    "\n",
    "## Task 1: Classical ML with Scikit-learn - Iris Dataset\n",
    "\n",
    "In this task, we will:\n",
    "1. Load and preprocess the Iris dataset\n",
    "2. Handle any missing values\n",
    "3. Encode labels\n",
    "4. Train a decision tree classifier\n",
    "5. Evaluate the model using accuracy, precision, and recall"
   ]
  },
  {
   "cell_type": "code",
   "execution_count": null,
   "id": "56e93cc5",
   "metadata": {},
   "outputs": [],
   "source": [
    "# Load the Iris dataset\n",
    "iris = load_iris()\n",
    "X = pd.DataFrame(iris.data, columns=iris.feature_names)\n",
    "y = iris.target\n",
    "\n",
    "# Check for missing values\n",
    "print(\"Missing values in the dataset:\")\n",
    "print(X.isnull().sum())\n",
    "\n",
    "# Create train-test split\n",
    "X_train, X_test, y_train, y_test = train_test_split(X, y, test_size=0.2, random_state=42)\n",
    "\n",
    "print(\"\\nDataset shapes:\")\n",
    "print(f\"Training set: {X_train.shape}\")\n",
    "print(f\"Test set: {X_test.shape}\")"
   ]
  }
 ],
 "metadata": {
  "kernelspec": {
   "display_name": "Python 3",
   "language": "python",
   "name": "python3"
  },
  "language_info": {
   "name": "python",
   "version": "3.10.18"
  }
 },
 "nbformat": 4,
 "nbformat_minor": 5
}
